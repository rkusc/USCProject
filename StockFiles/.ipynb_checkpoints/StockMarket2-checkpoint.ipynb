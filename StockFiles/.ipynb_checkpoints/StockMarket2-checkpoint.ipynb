{
 "cells": [
  {
   "cell_type": "code",
   "execution_count": 1,
   "id": "62bf7b22-0db5-4cda-85a0-a465a26e1f7f",
   "metadata": {},
   "outputs": [
    {
     "data": {
      "text/html": [
       "        <script type=\"text/javascript\">\n",
       "        window.PlotlyConfig = {MathJaxConfig: 'local'};\n",
       "        if (window.MathJax && window.MathJax.Hub && window.MathJax.Hub.Config) {window.MathJax.Hub.Config({SVG: {font: \"STIX-Web\"}});}\n",
       "        if (typeof require !== 'undefined') {\n",
       "        require.undef(\"plotly\");\n",
       "        requirejs.config({\n",
       "            paths: {\n",
       "                'plotly': ['https://cdn.plot.ly/plotly-2.32.0.min']\n",
       "            }\n",
       "        });\n",
       "        require(['plotly'], function(Plotly) {\n",
       "            window._Plotly = Plotly;\n",
       "        });\n",
       "        }\n",
       "        </script>\n",
       "        "
      ]
     },
     "metadata": {},
     "output_type": "display_data"
    }
   ],
   "source": [
    "import yfinance as yp\n",
    "import pandas as pd\n",
    "import numpy as np\n",
    "import matplotlib.pyplot as plt\n",
    "from sklearn.model_selection import train_test_split\n",
    "from sklearn.preprocessing import StandardScaler\n",
    "from sklearn.linear_model import LinearRegression\n",
    "import plotly.graph_objs as go\n",
    "from plotly.offline import plot, init_notebook_mode\n",
    "init_notebook_mode(connected = True)"
   ]
  },
  {
   "cell_type": "code",
   "execution_count": 2,
   "id": "a4ce1258-6c6e-404a-b4b4-85e370c11dbe",
   "metadata": {},
   "outputs": [],
   "source": [
    "# Create the feature matrix X\n",
    "def create_feature_matrix(data, lags=[1, 2]):\n",
    "    X = pd.DataFrame()\n",
    "    for lag in lags:\n",
    "        X[f'lag_{lag}'] = data['Close'].shift(lag)\n",
    "    X = X.dropna()\n",
    "    return X"
   ]
  },
  {
   "cell_type": "code",
   "execution_count": 3,
   "id": "37121006-6674-4acf-a4ee-9a8dd00fa622",
   "metadata": {},
   "outputs": [],
   "source": [
    "# Extend feature matrix X with new columns\n",
    "def extend_feature_matrix(X, new_columns):\n",
    "    for col_name, col_data in new_columns.items():\n",
    "        X[col_name] = col_data\n",
    "    return X"
   ]
  },
  {
   "cell_type": "code",
   "execution_count": 4,
   "id": "b1e247e6-832a-41cc-8d2f-514f9301e026",
   "metadata": {},
   "outputs": [],
   "source": [
    "# Split data into training and testing sets\n",
    "def split_data(X, y):\n",
    "    mid_point = len(X) // 2\n",
    "    X_train, X_test = X[:mid_point], X[mid_point:]\n",
    "    y_train, y_test = y[:mid_point], y[mid_point:]\n",
    "    return X_train, X_test, y_train, y_test"
   ]
  },
  {
   "cell_type": "code",
   "execution_count": 5,
   "id": "54be4168-5a9a-466c-9e80-7af60124d091",
   "metadata": {},
   "outputs": [
    {
     "name": "stderr",
     "output_type": "stream",
     "text": [
      "[*********************100%%**********************]  1 of 1 completed\n"
     ]
    }
   ],
   "source": [
    "ticker = 'GOOGL'\n",
    "start_date = '2010-06-29'\n",
    "end_date = '2024-06-24'\n",
    "stock_data = yp.download(ticker, start=start_date, end=end_date)"
   ]
  },
  {
   "cell_type": "code",
   "execution_count": 6,
   "id": "50badd9c-be2f-4f82-a30c-db299eff5534",
   "metadata": {},
   "outputs": [],
   "source": [
    "# Creating the matrix X\n",
    "X = create_feature_matrix(stock_data)\n",
    "y = stock_data['Close'][X.index]"
   ]
  },
  {
   "cell_type": "code",
   "execution_count": 7,
   "id": "f0c7ebcf-e62e-4371-93c1-e1b5604fb4b9",
   "metadata": {},
   "outputs": [],
   "source": [
    "# Adding additional features to X (example: (n-1 - n-2)^2)\n",
    "#X = extend_feature_matrix(X, {\n",
    " #   '(n-1 - n-2)^2': (X['lag_1'] - X['lag_2']) ** 2,\n",
    "  #  'Volatility': (X['lag_1'] - X['lag_2']) / X['lag_2']\n",
    "#})"
   ]
  },
  {
   "cell_type": "code",
   "execution_count": 8,
   "id": "c3a73d96-cd1e-448b-9b53-94004269fbb6",
   "metadata": {},
   "outputs": [
    {
     "data": {
      "text/html": [
       "<div>\n",
       "<style scoped>\n",
       "    .dataframe tbody tr th:only-of-type {\n",
       "        vertical-align: middle;\n",
       "    }\n",
       "\n",
       "    .dataframe tbody tr th {\n",
       "        vertical-align: top;\n",
       "    }\n",
       "\n",
       "    .dataframe thead th {\n",
       "        text-align: right;\n",
       "    }\n",
       "</style>\n",
       "<table border=\"1\" class=\"dataframe\">\n",
       "  <thead>\n",
       "    <tr style=\"text-align: right;\">\n",
       "      <th></th>\n",
       "      <th>lag_1</th>\n",
       "      <th>lag_2</th>\n",
       "      <th>(n-1 - n-2)^2</th>\n",
       "      <th>Volatility</th>\n",
       "    </tr>\n",
       "    <tr>\n",
       "      <th>Date</th>\n",
       "      <th></th>\n",
       "      <th></th>\n",
       "      <th></th>\n",
       "      <th></th>\n",
       "    </tr>\n",
       "  </thead>\n",
       "  <tbody>\n",
       "    <tr>\n",
       "      <th>2010-07-01</th>\n",
       "      <td>11.134885</td>\n",
       "      <td>11.367868</td>\n",
       "      <td>0.054281</td>\n",
       "      <td>-0.020495</td>\n",
       "    </tr>\n",
       "    <tr>\n",
       "      <th>2010-07-02</th>\n",
       "      <td>10.998248</td>\n",
       "      <td>11.134885</td>\n",
       "      <td>0.018670</td>\n",
       "      <td>-0.012271</td>\n",
       "    </tr>\n",
       "    <tr>\n",
       "      <th>2010-07-06</th>\n",
       "      <td>10.924675</td>\n",
       "      <td>10.998248</td>\n",
       "      <td>0.005413</td>\n",
       "      <td>-0.006690</td>\n",
       "    </tr>\n",
       "    <tr>\n",
       "      <th>2010-07-07</th>\n",
       "      <td>10.912663</td>\n",
       "      <td>10.924675</td>\n",
       "      <td>0.000144</td>\n",
       "      <td>-0.001099</td>\n",
       "    </tr>\n",
       "    <tr>\n",
       "      <th>2010-07-08</th>\n",
       "      <td>11.266266</td>\n",
       "      <td>10.912663</td>\n",
       "      <td>0.125035</td>\n",
       "      <td>0.032403</td>\n",
       "    </tr>\n",
       "  </tbody>\n",
       "</table>\n",
       "</div>"
      ],
      "text/plain": [
       "                lag_1      lag_2  (n-1 - n-2)^2  Volatility\n",
       "Date                                                       \n",
       "2010-07-01  11.134885  11.367868       0.054281   -0.020495\n",
       "2010-07-02  10.998248  11.134885       0.018670   -0.012271\n",
       "2010-07-06  10.924675  10.998248       0.005413   -0.006690\n",
       "2010-07-07  10.912663  10.924675       0.000144   -0.001099\n",
       "2010-07-08  11.266266  10.912663       0.125035    0.032403"
      ]
     },
     "execution_count": 8,
     "metadata": {},
     "output_type": "execute_result"
    }
   ],
   "source": [
    "X.head()"
   ]
  },
  {
   "cell_type": "code",
   "execution_count": 9,
   "id": "da001d38-ef65-48c9-b0f4-63710ea06765",
   "metadata": {},
   "outputs": [],
   "source": [
    "# Splitting the data\n",
    "X_train, X_test, y_train, y_test = split_data(X, y)"
   ]
  },
  {
   "cell_type": "code",
   "execution_count": 10,
   "id": "f417d281-805f-4fe3-a051-91691363d8f8",
   "metadata": {},
   "outputs": [],
   "source": [
    "# Feature scaling\n",
    "scaler = StandardScaler().fit(X_train)\n",
    "X_train_scaled = scaler.transform(X_train)\n",
    "X_test_scaled = scaler.transform(X_test)"
   ]
  },
  {
   "cell_type": "code",
   "execution_count": 11,
   "id": "93438304-d62a-43cc-88e9-5af2e0d21245",
   "metadata": {},
   "outputs": [],
   "source": [
    "# Machine learning model\n",
    "lm = LinearRegression()\n",
    "lm.fit(X_train_scaled, y_train)\n",
    "\n",
    "# Predict using the model\n",
    "predicted_values = lm.predict(X_train_scaled)"
   ]
  },
  {
   "cell_type": "code",
   "execution_count": 12,
   "id": "627219b7-1ef8-41be-b1e5-6248cda5770e",
   "metadata": {},
   "outputs": [
    {
     "data": {
      "text/plain": [
       "'temp-plot.html'"
      ]
     },
     "execution_count": 12,
     "metadata": {},
     "output_type": "execute_result"
    }
   ],
   "source": [
    "# Plotting actual vs predicted values\n",
    "trace0 = go.Scatter(\n",
    "    x=X_train.index,\n",
    "    y=y_train,\n",
    "    mode='markers',\n",
    "    name='Actual'\n",
    ")\n",
    "trace1 = go.Scatter(\n",
    "    x=X_train.index,\n",
    "    y=predicted_values,\n",
    "    mode='lines',\n",
    "    name='Predicted'\n",
    ")\n",
    "\n",
    "layout = go.Layout(\n",
    "    title='Actual vs Predicted Stock Prices',\n",
    "    xaxis=dict(title='Date'),\n",
    "    yaxis=dict(title='Stock Price')\n",
    ")\n",
    "\n",
    "fig = go.Figure(data=[trace0, trace1], layout=layout)\n",
    "plot(fig)"
   ]
  },
  {
   "cell_type": "code",
   "execution_count": 13,
   "id": "e9f2d1d4-4bd2-45ee-a40a-ebd339dd3caf",
   "metadata": {},
   "outputs": [
    {
     "name": "stdout",
     "output_type": "stream",
     "text": [
      "              Open         High          Low        Close    Adj Close  \\\n",
      "count  3519.000000  3519.000000  3519.000000  3519.000000  3519.000000   \n",
      "mean     58.894070    59.504379    58.301364    58.921968    58.921968   \n",
      "std      42.391338    42.881369    41.943026    42.429693    42.429693   \n",
      "min      10.968719    11.068068    10.851602    10.912663    10.912663   \n",
      "25%      26.027750    26.361803    25.784034    26.039500    26.039500   \n",
      "50%      47.275002    47.525002    46.917999    47.275002    47.275002   \n",
      "75%      87.456749    88.478500    86.774502    87.740002    87.740002   \n",
      "max     178.250000   180.850006   176.610001   179.630005   179.630005   \n",
      "\n",
      "             Volume  \n",
      "count  3.519000e+03  \n",
      "mean   5.434959e+07  \n",
      "std    4.456784e+07  \n",
      "min    9.312000e+06  \n",
      "25%    2.762400e+07  \n",
      "50%    3.746800e+07  \n",
      "75%    6.970608e+07  \n",
      "max    5.923990e+08  \n"
     ]
    }
   ],
   "source": [
    "stock_data.describe() \n",
    "print(stock_data.describe())"
   ]
  }
 ],
 "metadata": {
  "kernelspec": {
   "display_name": "Python 3 (ipykernel)",
   "language": "python",
   "name": "python3"
  },
  "language_info": {
   "codemirror_mode": {
    "name": "ipython",
    "version": 3
   },
   "file_extension": ".py",
   "mimetype": "text/x-python",
   "name": "python",
   "nbconvert_exporter": "python",
   "pygments_lexer": "ipython3",
   "version": "3.11.4"
  }
 },
 "nbformat": 4,
 "nbformat_minor": 5
}
