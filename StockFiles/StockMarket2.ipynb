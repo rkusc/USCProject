{
 "cells": [
  {
   "cell_type": "code",
   "execution_count": 1,
   "id": "62bf7b22-0db5-4cda-85a0-a465a26e1f7f",
   "metadata": {},
   "outputs": [
    {
     "data": {
      "text/html": [
       "        <script type=\"text/javascript\">\n",
       "        window.PlotlyConfig = {MathJaxConfig: 'local'};\n",
       "        if (window.MathJax && window.MathJax.Hub && window.MathJax.Hub.Config) {window.MathJax.Hub.Config({SVG: {font: \"STIX-Web\"}});}\n",
       "        if (typeof require !== 'undefined') {\n",
       "        require.undef(\"plotly\");\n",
       "        requirejs.config({\n",
       "            paths: {\n",
       "                'plotly': ['https://cdn.plot.ly/plotly-2.32.0.min']\n",
       "            }\n",
       "        });\n",
       "        require(['plotly'], function(Plotly) {\n",
       "            window._Plotly = Plotly;\n",
       "        });\n",
       "        }\n",
       "        </script>\n",
       "        "
      ]
     },
     "metadata": {},
     "output_type": "display_data"
    }
   ],
   "source": [
    "import yfinance as yp\n",
    "import pandas as pd\n",
    "import numpy as np\n",
    "import matplotlib.pyplot as plt\n",
    "from sklearn.model_selection import train_test_split\n",
    "from sklearn.preprocessing import StandardScaler\n",
    "from sklearn.linear_model import LinearRegression\n",
    "import plotly.graph_objs as go\n",
    "from plotly.offline import plot, init_notebook_mode\n",
    "init_notebook_mode(connected = True)"
   ]
  },
  {
   "cell_type": "code",
   "execution_count": 2,
   "id": "a4ce1258-6c6e-404a-b4b4-85e370c11dbe",
   "metadata": {},
   "outputs": [],
   "source": [
    "# Create the feature matrix X\n",
    "def create_feature_matrix(data, lags=[1, 2]):\n",
    "    X = pd.DataFrame()\n",
    "    for lag in lags:\n",
    "        X[f'lag_{lag}'] = data['Close'].shift(lag)\n",
    "    X = X.dropna()\n",
    "    return X"
   ]
  },
  {
   "cell_type": "code",
   "execution_count": 3,
   "id": "37121006-6674-4acf-a4ee-9a8dd00fa622",
   "metadata": {},
   "outputs": [],
   "source": [
    "# Extend feature matrix X with new columns\n",
    "def extend_feature_matrix(X, new_columns):\n",
    "    for col_name, col_data in new_columns.items():\n",
    "        X[col_name] = col_data\n",
    "    return X"
   ]
  },
  {
   "cell_type": "code",
   "execution_count": 4,
   "id": "b1e247e6-832a-41cc-8d2f-514f9301e026",
   "metadata": {},
   "outputs": [],
   "source": [
    "# Split data into training and testing sets\n",
    "def split_data(X, y):\n",
    "    mid_point = len(X) // 2\n",
    "    X_train, X_test = X[:mid_point], X[mid_point:]\n",
    "    y_train, y_test = y[:mid_point], y[mid_point:]\n",
    "    return X_train, X_test, y_train, y_test"
   ]
  },
  {
   "cell_type": "code",
   "execution_count": 5,
   "id": "54be4168-5a9a-466c-9e80-7af60124d091",
   "metadata": {},
   "outputs": [
    {
     "name": "stderr",
     "output_type": "stream",
     "text": [
      "[*********************100%%**********************]  1 of 1 completed\n"
     ]
    }
   ],
   "source": [
    "ticker = 'GOOGL'\n",
    "start_date = '2010-06-29'\n",
    "end_date = '2014-06-24'\n",
    "stock_data = yp.download(ticker, start=start_date, end=end_date)"
   ]
  },
  {
   "cell_type": "code",
   "execution_count": 6,
   "id": "50badd9c-be2f-4f82-a30c-db299eff5534",
   "metadata": {},
   "outputs": [],
   "source": [
    "# Creating the matrix X\n",
    "X = create_feature_matrix(stock_data)\n",
    "y = stock_data['Close'][X.index]"
   ]
  },
  {
   "cell_type": "code",
   "execution_count": 7,
   "id": "f0c7ebcf-e62e-4371-93c1-e1b5604fb4b9",
   "metadata": {},
   "outputs": [],
   "source": [
    "# Adding additional features to X (example: (n-1 - n-2)^2)\n",
    "X = extend_feature_matrix(X, {\n",
    "    '(n-1 - n-2)^2': (X['lag_1'] - X['lag_2']) ** 2,\n",
    "    'Volatility': (X['lag_1'] - X['lag_2']) / X['lag_2']\n",
    "})"
   ]
  },
  {
   "cell_type": "code",
   "execution_count": 8,
   "id": "c3a73d96-cd1e-448b-9b53-94004269fbb6",
   "metadata": {},
   "outputs": [
    {
     "data": {
      "text/plain": [
       "Date\n",
       "2010-07-01    10.998248\n",
       "2010-07-02    10.924675\n",
       "2010-07-06    10.912663\n",
       "2010-07-07    11.266266\n",
       "2010-07-08    11.425425\n",
       "Name: Close, dtype: float64"
      ]
     },
     "execution_count": 8,
     "metadata": {},
     "output_type": "execute_result"
    }
   ],
   "source": [
    "y.head()"
   ]
  },
  {
   "cell_type": "code",
   "execution_count": 9,
   "id": "da001d38-ef65-48c9-b0f4-63710ea06765",
   "metadata": {},
   "outputs": [],
   "source": [
    "# Splitting the data\n",
    "X_train, X_test, y_train, y_test = split_data(X, y)"
   ]
  },
  {
   "cell_type": "code",
   "execution_count": 10,
   "id": "f417d281-805f-4fe3-a051-91691363d8f8",
   "metadata": {},
   "outputs": [],
   "source": [
    "# Feature scaling\n",
    "scaler = StandardScaler().fit(X_train)\n",
    "X_train_scaled = scaler.transform(X_train)\n",
    "X_test_scaled = scaler.transform(X_test)"
   ]
  },
  {
   "cell_type": "code",
   "execution_count": 11,
   "id": "93438304-d62a-43cc-88e9-5af2e0d21245",
   "metadata": {},
   "outputs": [],
   "source": [
    "# Machine learning model\n",
    "lm = LinearRegression()\n",
    "lm.fit(X_train_scaled, y_train)\n",
    "\n",
    "# Predict using the model\n",
    "predicted_values = lm.predict(X_train_scaled)"
   ]
  },
  {
   "cell_type": "code",
   "execution_count": 12,
   "id": "627219b7-1ef8-41be-b1e5-6248cda5770e",
   "metadata": {},
   "outputs": [
    {
     "data": {
      "text/plain": [
       "'temp-plot.html'"
      ]
     },
     "execution_count": 12,
     "metadata": {},
     "output_type": "execute_result"
    }
   ],
   "source": [
    "# Plotting actual vs predicted values\n",
    "trace0 = go.Scatter(\n",
    "    x=X_train.index,\n",
    "    y=y_train,\n",
    "    mode='markers',\n",
    "    name='Actual'\n",
    ")\n",
    "trace1 = go.Scatter(\n",
    "    x=X_train.index,\n",
    "    y=predicted_values,\n",
    "    mode='lines',\n",
    "    name='Predicted'\n",
    ")\n",
    "\n",
    "layout = go.Layout(\n",
    "    title='Actual vs Predicted Stock Prices',\n",
    "    xaxis=dict(title='Date'),\n",
    "    yaxis=dict(title='Stock Price')\n",
    ")\n",
    "\n",
    "fig = go.Figure(data=[trace0, trace1], layout=layout)\n",
    "plot(fig)"
   ]
  },
  {
   "cell_type": "code",
   "execution_count": 13,
   "id": "e9f2d1d4-4bd2-45ee-a40a-ebd339dd3caf",
   "metadata": {},
   "outputs": [
    {
     "name": "stdout",
     "output_type": "stream",
     "text": [
      "              Open         High          Low        Close    Adj Close  \\\n",
      "count  1003.000000  1003.000000  1003.000000  1003.000000  1003.000000   \n",
      "mean     18.253879    18.398469    18.092760    18.249350    18.228429   \n",
      "std       5.205511     5.229167     5.160075     5.197633     5.191675   \n",
      "min      10.968719    11.068068    10.851602    10.912663    10.900153   \n",
      "25%      14.613739    14.697072    14.450325    14.536912    14.520247   \n",
      "50%      15.853854    15.966717    15.715465    15.838589    15.820432   \n",
      "75%      21.879004    22.004004    21.746246    21.862864    21.837801   \n",
      "max      30.700701    30.752752    30.495495    30.534784    30.499781   \n",
      "\n",
      "             Volume  \n",
      "count  1.003000e+03  \n",
      "mean   1.008534e+08  \n",
      "std    5.665283e+07  \n",
      "min    2.258000e+07  \n",
      "25%    7.017975e+07  \n",
      "50%    8.832359e+07  \n",
      "75%    1.164394e+08  \n",
      "max    5.923990e+08  \n"
     ]
    }
   ],
   "source": [
    "stock_data.describe() \n",
    "print(stock_data.describe())"
   ]
  }
 ],
 "metadata": {
  "kernelspec": {
   "display_name": "Python 3 (ipykernel)",
   "language": "python",
   "name": "python3"
  },
  "language_info": {
   "codemirror_mode": {
    "name": "ipython",
    "version": 3
   },
   "file_extension": ".py",
   "mimetype": "text/x-python",
   "name": "python",
   "nbconvert_exporter": "python",
   "pygments_lexer": "ipython3",
   "version": "3.11.4"
  }
 },
 "nbformat": 4,
 "nbformat_minor": 5
}
