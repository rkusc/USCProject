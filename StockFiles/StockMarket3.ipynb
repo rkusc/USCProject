{
 "cells": [
  {
   "cell_type": "code",
   "execution_count": 1,
   "id": "45de7e62-6ba8-4dcc-9089-5128eaa85a8d",
   "metadata": {},
   "outputs": [
    {
     "data": {
      "text/html": [
       "        <script type=\"text/javascript\">\n",
       "        window.PlotlyConfig = {MathJaxConfig: 'local'};\n",
       "        if (window.MathJax && window.MathJax.Hub && window.MathJax.Hub.Config) {window.MathJax.Hub.Config({SVG: {font: \"STIX-Web\"}});}\n",
       "        if (typeof require !== 'undefined') {\n",
       "        require.undef(\"plotly\");\n",
       "        requirejs.config({\n",
       "            paths: {\n",
       "                'plotly': ['https://cdn.plot.ly/plotly-2.32.0.min']\n",
       "            }\n",
       "        });\n",
       "        require(['plotly'], function(Plotly) {\n",
       "            window._Plotly = Plotly;\n",
       "        });\n",
       "        }\n",
       "        </script>\n",
       "        "
      ]
     },
     "metadata": {},
     "output_type": "display_data"
    }
   ],
   "source": [
    "import yfinance as yp\n",
    "import pandas as pd\n",
    "import numpy as np\n",
    "import matplotlib.pyplot as plt\n",
    "from sklearn.model_selection import train_test_split\n",
    "from sklearn.preprocessing import StandardScaler\n",
    "from sklearn.linear_model import LinearRegression\n",
    "import plotly.graph_objs as go\n",
    "from plotly.offline import plot, init_notebook_mode\n",
    "init_notebook_mode(connected=True)"
   ]
  },
  {
   "cell_type": "code",
   "execution_count": 2,
   "id": "913577a9-8a54-40d7-9a31-261f16d98390",
   "metadata": {},
   "outputs": [],
   "source": [
    "def create_feature_matrix(data, lags=[1, 2]):\n",
    "    X = pd.DataFrame()\n",
    "    for lag in lags:\n",
    "        X[f'lag_{lag}'] = data['Close'].shift(lag)\n",
    "    X = X.dropna()\n",
    "    return X"
   ]
  },
  {
   "cell_type": "code",
   "execution_count": 3,
   "id": "72ee73de-f9f7-4286-aa99-6e3556891c80",
   "metadata": {},
   "outputs": [],
   "source": [
    "# Extend feature matrix X with new columns\n",
    "def extend_feature_matrix(X, new_columns):\n",
    "    for col_name, col_data in new_columns.items():\n",
    "        X[col_name] = col_data\n",
    "    return X"
   ]
  },
  {
   "cell_type": "code",
   "execution_count": 4,
   "id": "f376de77-ec4d-43ac-b3f6-476570ac72e8",
   "metadata": {},
   "outputs": [],
   "source": [
    "# Split data into training and testing sets\n",
    "def split_data(X, y):\n",
    "    mid_point = len(X) // 2\n",
    "    X_train, X_test = X[:mid_point], X[mid_point:]\n",
    "    y_train, y_test = y[:mid_point], y[mid_point:]\n",
    "    return X_train, X_test, y_train, y_test"
   ]
  },
  {
   "cell_type": "code",
   "execution_count": 5,
   "id": "9da3f626-6f3c-4f02-a53e-1f35d2177acd",
   "metadata": {},
   "outputs": [
    {
     "name": "stderr",
     "output_type": "stream",
     "text": [
      "[*********************100%%**********************]  1 of 1 completed\n"
     ]
    }
   ],
   "source": [
    "ticker = 'GOOGL'\n",
    "start_date = '2013-06-29'\n",
    "end_date = '2018-06-25'\n",
    "stock_data = yp.download(ticker, start=start_date, end=end_date)"
   ]
  },
  {
   "cell_type": "code",
   "execution_count": 6,
   "id": "20b2c82b-f55f-4c54-a760-9e5c3bc0f888",
   "metadata": {},
   "outputs": [],
   "source": [
    "# Creating the matrix X\n",
    "X = create_feature_matrix(stock_data)\n",
    "y = stock_data['Close'][X.index]"
   ]
  },
  {
   "cell_type": "code",
   "execution_count": 7,
   "id": "92614781-9193-470c-b1b0-062e63e24574",
   "metadata": {},
   "outputs": [],
   "source": [
    "# Adding additional features to X (example: (n-1 - n-2)^2)\n",
    "X = extend_feature_matrix(X, {\n",
    "    '(n-1 - n-2)^2': (X['lag_1'] - X['lag_2']) ** 2,\n",
    "    'Volatility': (X['lag_1'] - X['lag_2']) / X['lag_2']\n",
    "})"
   ]
  },
  {
   "cell_type": "code",
   "execution_count": 8,
   "id": "1c07bb27-54d2-47c9-a736-78f88eeac19e",
   "metadata": {},
   "outputs": [
    {
     "data": {
      "text/plain": [
       "Date\n",
       "2013-07-03    22.182934\n",
       "2013-07-05    22.359610\n",
       "2013-07-08    22.649900\n",
       "2013-07-09    22.653654\n",
       "2013-07-10    22.672422\n",
       "Name: Close, dtype: float64"
      ]
     },
     "execution_count": 8,
     "metadata": {},
     "output_type": "execute_result"
    }
   ],
   "source": [
    "y.head()"
   ]
  },
  {
   "cell_type": "code",
   "execution_count": 9,
   "id": "c6d20500-4354-4f72-8441-1298eeb24c1c",
   "metadata": {},
   "outputs": [],
   "source": [
    "# Splitting the data\n",
    "X_train, X_test, y_train, y_test = split_data(X, y)"
   ]
  },
  {
   "cell_type": "code",
   "execution_count": 10,
   "id": "6d66628d-caea-417e-8525-a51d1b8931f9",
   "metadata": {},
   "outputs": [],
   "source": [
    "# Feature scaling\n",
    "scaler = StandardScaler().fit(X_train)\n",
    "X_train_scaled = scaler.transform(X_train)\n",
    "X_test_scaled = scaler.transform(X_test)"
   ]
  },
  {
   "cell_type": "code",
   "execution_count": 11,
   "id": "5afeb9f6-a42c-4175-ac9b-56342671c209",
   "metadata": {},
   "outputs": [],
   "source": [
    "# Machine learning model\n",
    "lm = LinearRegression()\n",
    "lm.fit(X_train_scaled, y_train)\n",
    "\n",
    "# Predict using the model\n",
    "predicted_values_train = lm.predict(X_train_scaled)\n",
    "predicted_values_test = lm.predict(X_test_scaled)"
   ]
  },
  {
   "cell_type": "code",
   "execution_count": 12,
   "id": "af9d4dc2-b6d0-4311-9ebe-6688064ed933",
   "metadata": {},
   "outputs": [],
   "source": [
    "# Combine the predictions and actual values\n",
    "predicted_values = np.concatenate([predicted_values_train, predicted_values_test])\n",
    "all_dates = np.concatenate([X_train.index, X_test.index])\n",
    "actual_values = np.concatenate([y_train, y_test])"
   ]
  },
  {
   "cell_type": "code",
   "execution_count": 13,
   "id": "2961745e-73c4-45f5-925f-c75dbe4e104f",
   "metadata": {},
   "outputs": [
    {
     "data": {
      "text/plain": [
       "'temp-plot.html'"
      ]
     },
     "execution_count": 13,
     "metadata": {},
     "output_type": "execute_result"
    }
   ],
   "source": [
    "# Plotting actual vs predicted values\n",
    "trace0 = go.Scatter(\n",
    "    x=all_dates,\n",
    "    y=actual_values,\n",
    "    mode='markers',\n",
    "    name='Actual'\n",
    ")\n",
    "trace1 = go.Scatter(\n",
    "    x=all_dates,\n",
    "    y=predicted_values,\n",
    "    mode='lines',\n",
    "    name='Predicted'\n",
    ")\n",
    "\n",
    "layout = go.Layout(\n",
    "    title='Actual vs Predicted Stock Prices',\n",
    "    xaxis=dict(title='Date'),\n",
    "    yaxis=dict(title='Stock Price')\n",
    ")\n",
    "\n",
    "fig = go.Figure(data=[trace0, trace1], layout=layout)\n",
    "plot(fig)"
   ]
  },
  {
   "cell_type": "code",
   "execution_count": 14,
   "id": "3975e1ba-aeb5-4f84-b134-098b304b50ac",
   "metadata": {},
   "outputs": [
    {
     "name": "stdout",
     "output_type": "stream",
     "text": [
      "              Open         High          Low        Close    Adj Close  \\\n",
      "count  1255.000000  1255.000000  1255.000000  1255.000000  1255.000000   \n",
      "mean     36.667752    36.951159    36.349563    36.660544    36.618517   \n",
      "std       9.946374    10.034483     9.866555     9.957473     9.946058   \n",
      "min      21.247997    21.406656    21.095596    21.193693    21.169397   \n",
      "25%      27.907000    28.060500    27.665328    27.876750    27.844793   \n",
      "50%      36.069500    36.475498    35.750500    36.073002    36.031647   \n",
      "75%      42.612999    42.858000    42.376249    42.598251    42.549417   \n",
      "max      59.400002    60.074501    59.202999    59.377998    59.309929   \n",
      "\n",
      "             Volume  \n",
      "count  1.255000e+03  \n",
      "mean   4.526105e+07  \n",
      "std    2.864047e+07  \n",
      "min    1.041200e+07  \n",
      "25%    2.871700e+07  \n",
      "50%    3.651000e+07  \n",
      "75%    5.183300e+07  \n",
      "max    4.621933e+08  \n"
     ]
    }
   ],
   "source": [
    "stock_data.describe()\n",
    "print(stock_data.describe())"
   ]
  }
 ],
 "metadata": {
  "kernelspec": {
   "display_name": "Python 3 (ipykernel)",
   "language": "python",
   "name": "python3"
  },
  "language_info": {
   "codemirror_mode": {
    "name": "ipython",
    "version": 3
   },
   "file_extension": ".py",
   "mimetype": "text/x-python",
   "name": "python",
   "nbconvert_exporter": "python",
   "pygments_lexer": "ipython3",
   "version": "3.11.4"
  }
 },
 "nbformat": 4,
 "nbformat_minor": 5
}
