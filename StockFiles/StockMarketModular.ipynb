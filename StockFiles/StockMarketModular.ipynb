{
 "cells": [
  {
   "cell_type": "code",
   "execution_count": null,
   "id": "21f64dda-4df7-4427-b361-76375064775c",
   "metadata": {},
   "outputs": [],
   "source": [
    "import yfinance as yp\n",
    "import pandas as pd\n",
    "import numpy as np\n",
    "import matplotlib.pyplot as plt\n",
    "from sklearn.model_selection import train_test_split\n",
    "from sklearn.preprocessing import StandardScaler\n",
    "from sklearn.linear_model import LinearRegression\n",
    "import plotly.graph_objs as go\n",
    "from plotly.offline import plot, init_notebook_mode\n"
   ]
  },
  {
   "cell_type": "code",
   "execution_count": null,
   "id": "43f682fb-5343-4347-bc5b-bc2facc6b300",
   "metadata": {},
   "outputs": [],
   "source": [
    "import sys\n",
    "import os\n",
    "\n",
    "sys.path.append(os.path.join(os.path.dirname(__file__), 'utils'))"
   ]
  },
  {
   "cell_type": "code",
   "execution_count": null,
   "id": "66cc9d85-b369-44e1-8a7b-066034278142",
   "metadata": {},
   "outputs": [],
   "source": [
    "# Import the helper functions\n",
    "from create_feature_matrix import create_feature_matrix\n",
    "from extend_feature_matrix import extend_feature_matrix\n",
    "from split_data import split_data\n",
    "init_notebook_mode(connected=True)"
   ]
  },
  {
   "cell_type": "code",
   "execution_count": null,
   "id": "12603735-c0bd-4126-9289-6e96e38f236d",
   "metadata": {},
   "outputs": [],
   "source": [
    "ticker = 'GOOGL'\n",
    "start_date = '2010-06-29'\n",
    "end_date = '2014-06-24'\n",
    "stock_data = yp.download(ticker, start=start_date, end=end_date)"
   ]
  },
  {
   "cell_type": "code",
   "execution_count": null,
   "id": "72d5308d-8002-4ec3-90ad-bebe00c787b7",
   "metadata": {},
   "outputs": [],
   "source": [
    "# Creating the matrix X\n",
    "X = create_feature_matrix(stock_data)\n",
    "y = stock_data['Close'][X.index]"
   ]
  },
  {
   "cell_type": "code",
   "execution_count": null,
   "id": "455e5b50-c70b-4c44-89a8-4236d8867cc4",
   "metadata": {},
   "outputs": [],
   "source": [
    "# Adding additional features to X (example: (n-1 - n-2)^2)\n",
    "X = extend_feature_matrix(X, {\n",
    "    '(n-1 - n-2)^2': (X['lag_1'] - X['lag_2']) ** 2,\n",
    "    'Volatility': (X['lag_1'] - X['lag_2']) / X['lag_2']\n",
    "})"
   ]
  },
  {
   "cell_type": "code",
   "execution_count": null,
   "id": "6bce87e0-50c8-4fa9-98ad-30d5bf017668",
   "metadata": {},
   "outputs": [],
   "source": [
    "# Splitting the data\n",
    "X_train, X_test, y_train, y_test = split_data(X, y)"
   ]
  },
  {
   "cell_type": "code",
   "execution_count": null,
   "id": "6399d9ea-e21e-4dd5-a20c-8ce79e3a2ae4",
   "metadata": {},
   "outputs": [],
   "source": [
    "# Feature scaling\n",
    "scaler = StandardScaler().fit(X_train)\n",
    "X_train_scaled = scaler.transform(X_train)\n",
    "X_test_scaled = scaler.transform(X_test)"
   ]
  },
  {
   "cell_type": "code",
   "execution_count": null,
   "id": "d9105eb7-73a3-4686-8190-3ed349593390",
   "metadata": {},
   "outputs": [],
   "source": [
    "# Machine learning model\n",
    "lm = LinearRegression()\n",
    "lm.fit(X_train_scaled, y_train)"
   ]
  },
  {
   "cell_type": "code",
   "execution_count": null,
   "id": "275fe093-808e-4b74-9d71-c2e44cbaed7f",
   "metadata": {},
   "outputs": [],
   "source": [
    "y.head()"
   ]
  },
  {
   "cell_type": "code",
   "execution_count": null,
   "id": "1e5da207-7265-4bf7-8c3a-974258d78669",
   "metadata": {},
   "outputs": [],
   "source": [
    "# Splitting the data\n",
    "X_train, X_test, y_train, y_test = split_data(X, y)"
   ]
  },
  {
   "cell_type": "code",
   "execution_count": null,
   "id": "69918511-c3a2-4558-9256-f117f2409e74",
   "metadata": {},
   "outputs": [],
   "source": [
    "# Feature scaling\n",
    "scaler = StandardScaler().fit(X_train)\n",
    "X_train_scaled = scaler.transform(X_train)\n",
    "X_test_scaled = scaler.transform(X_test)"
   ]
  },
  {
   "cell_type": "code",
   "execution_count": null,
   "id": "eb37fe61-d764-4f1e-8e54-7f5b0b4e0202",
   "metadata": {},
   "outputs": [],
   "source": [
    "# Machine learning model\n",
    "lm = LinearRegression()\n",
    "lm.fit(X_train_scaled, y_train)\n",
    "\n",
    "# Predict using the model\n",
    "predicted_values_train = lm.predict(X_train_scaled)\n",
    "predicted_values_test = lm.predict(X_test_scaled)"
   ]
  },
  {
   "cell_type": "code",
   "execution_count": null,
   "id": "f5212f33-9382-4ced-86ee-a0cf3807ec49",
   "metadata": {},
   "outputs": [],
   "source": [
    "# Combine the predictions and actual values\n",
    "predicted_values = np.concatenate([predicted_values_train, predicted_values_test])\n",
    "all_dates = np.concatenate([X_train.index, X_test.index])\n",
    "actual_values = np.concatenate([y_train, y_test])"
   ]
  },
  {
   "cell_type": "code",
   "execution_count": null,
   "id": "6a6c871c-e2ab-4afb-96bf-dc2486d1a81b",
   "metadata": {},
   "outputs": [],
   "source": [
    "# Plotting actual vs predicted values\n",
    "trace0 = go.Scatter(\n",
    "    x=all_dates,\n",
    "    y=actual_values,\n",
    "    mode='markers',\n",
    "    name='Actual'\n",
    ")\n",
    "trace1 = go.Scatter(\n",
    "    x=all_dates,\n",
    "    y=predicted_values,\n",
    "    mode='lines',\n",
    "    name='Predicted'\n",
    ")\n",
    "\n",
    "layout = go.Layout(\n",
    "    title='Actual vs Predicted Stock Prices',\n",
    "    xaxis=dict(title='Date'),\n",
    "    yaxis=dict(title='Stock Price')\n",
    ")\n",
    "\n",
    "fig = go.Figure(data=[trace0, trace1], layout=layout)\n",
    "plot(fig)"
   ]
  },
  {
   "cell_type": "code",
   "execution_count": null,
   "id": "302302fc-6137-48fe-a30c-aaeceff55e42",
   "metadata": {},
   "outputs": [],
   "source": [
    "stock_data.describe()\n",
    "print(stock_data.describe())"
   ]
  }
 ],
 "metadata": {
  "kernelspec": {
   "display_name": "Python 3 (ipykernel)",
   "language": "python",
   "name": "python3"
  },
  "language_info": {
   "codemirror_mode": {
    "name": "ipython",
    "version": 3
   },
   "file_extension": ".py",
   "mimetype": "text/x-python",
   "name": "python",
   "nbconvert_exporter": "python",
   "pygments_lexer": "ipython3",
   "version": "3.11.4"
  }
 },
 "nbformat": 4,
 "nbformat_minor": 5
}
